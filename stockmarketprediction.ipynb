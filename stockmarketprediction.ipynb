{
 "cells": [
  {
   "cell_type": "code",
   "execution_count": 1,
   "id": "7b84c88c",
   "metadata": {},
   "outputs": [
    {
     "name": "stdout",
     "output_type": "stream",
     "text": [
      "Collecting yfinance\n",
      "  Downloading yfinance-0.2.40-py2.py3-none-any.whl (73 kB)\n",
      "     -------------------------------------- 73.5/73.5 kB 368.0 kB/s eta 0:00:00\n",
      "Collecting peewee>=3.16.2\n",
      "  Downloading peewee-3.17.5.tar.gz (3.0 MB)\n",
      "     ---------------------------------------- 3.0/3.0 MB 1.8 MB/s eta 0:00:00\n",
      "  Installing build dependencies: started\n",
      "  Installing build dependencies: finished with status 'done'\n",
      "  Getting requirements to build wheel: started\n",
      "  Getting requirements to build wheel: finished with status 'done'\n",
      "  Preparing metadata (pyproject.toml): started\n",
      "  Preparing metadata (pyproject.toml): finished with status 'done'\n",
      "Collecting html5lib>=1.1\n",
      "  Downloading html5lib-1.1-py2.py3-none-any.whl (112 kB)\n",
      "     -------------------------------------- 112.2/112.2 kB 3.3 MB/s eta 0:00:00\n",
      "Collecting pytz>=2022.5\n",
      "  Downloading pytz-2024.1-py2.py3-none-any.whl (505 kB)\n",
      "     -------------------------------------- 505.5/505.5 kB 2.6 MB/s eta 0:00:00\n",
      "Requirement already satisfied: numpy>=1.16.5 in c:\\users\\sanja\\anaconda3\\lib\\site-packages (from yfinance) (1.21.5)\n",
      "Collecting multitasking>=0.0.7\n",
      "  Downloading multitasking-0.0.11-py3-none-any.whl (8.5 kB)\n",
      "Collecting frozendict>=2.3.4\n",
      "  Downloading frozendict-2.4.4-cp39-cp39-win_amd64.whl (37 kB)\n",
      "Requirement already satisfied: platformdirs>=2.0.0 in c:\\users\\sanja\\anaconda3\\lib\\site-packages (from yfinance) (2.5.2)\n",
      "Requirement already satisfied: beautifulsoup4>=4.11.1 in c:\\users\\sanja\\anaconda3\\lib\\site-packages (from yfinance) (4.11.1)\n",
      "Requirement already satisfied: lxml>=4.9.1 in c:\\users\\sanja\\anaconda3\\lib\\site-packages (from yfinance) (4.9.1)\n",
      "Requirement already satisfied: pandas>=1.3.0 in c:\\users\\sanja\\anaconda3\\lib\\site-packages (from yfinance) (1.4.4)\n",
      "Collecting requests>=2.31\n",
      "  Downloading requests-2.32.3-py3-none-any.whl (64 kB)\n",
      "     ---------------------------------------- 64.9/64.9 kB 1.8 MB/s eta 0:00:00\n",
      "Requirement already satisfied: soupsieve>1.2 in c:\\users\\sanja\\anaconda3\\lib\\site-packages (from beautifulsoup4>=4.11.1->yfinance) (2.3.1)\n",
      "Requirement already satisfied: webencodings in c:\\users\\sanja\\anaconda3\\lib\\site-packages (from html5lib>=1.1->yfinance) (0.5.1)\n",
      "Requirement already satisfied: six>=1.9 in c:\\users\\sanja\\anaconda3\\lib\\site-packages (from html5lib>=1.1->yfinance) (1.16.0)\n",
      "Requirement already satisfied: python-dateutil>=2.8.1 in c:\\users\\sanja\\anaconda3\\lib\\site-packages (from pandas>=1.3.0->yfinance) (2.8.2)\n",
      "Requirement already satisfied: urllib3<3,>=1.21.1 in c:\\users\\sanja\\anaconda3\\lib\\site-packages (from requests>=2.31->yfinance) (1.26.11)\n",
      "Requirement already satisfied: idna<4,>=2.5 in c:\\users\\sanja\\anaconda3\\lib\\site-packages (from requests>=2.31->yfinance) (3.3)\n",
      "Requirement already satisfied: certifi>=2017.4.17 in c:\\users\\sanja\\anaconda3\\lib\\site-packages (from requests>=2.31->yfinance) (2022.9.14)\n",
      "Requirement already satisfied: charset-normalizer<4,>=2 in c:\\users\\sanja\\anaconda3\\lib\\site-packages (from requests>=2.31->yfinance) (2.0.4)\n",
      "Building wheels for collected packages: peewee\n",
      "  Building wheel for peewee (pyproject.toml): started\n",
      "  Building wheel for peewee (pyproject.toml): finished with status 'done'\n",
      "  Created wheel for peewee: filename=peewee-3.17.5-py3-none-any.whl size=138680 sha256=757d2f6878cfe9611608830c459aff840637e29f61e804245951f6d43f44efa2\n",
      "  Stored in directory: c:\\users\\sanja\\appdata\\local\\pip\\cache\\wheels\\95\\bd\\4e\\15d1893c245357e4d2353e77456c0be9561d1942ed9fe664ca\n",
      "Successfully built peewee\n",
      "Installing collected packages: pytz, peewee, multitasking, requests, html5lib, frozendict, yfinance\n",
      "  Attempting uninstall: pytz\n",
      "    Found existing installation: pytz 2022.1\n",
      "    Uninstalling pytz-2022.1:\n",
      "      Successfully uninstalled pytz-2022.1\n",
      "  Attempting uninstall: requests\n",
      "    Found existing installation: requests 2.28.1\n",
      "    Uninstalling requests-2.28.1:\n",
      "      Successfully uninstalled requests-2.28.1\n",
      "Successfully installed frozendict-2.4.4 html5lib-1.1 multitasking-0.0.11 peewee-3.17.5 pytz-2024.1 requests-2.32.3 yfinance-0.2.40\n"
     ]
    },
    {
     "name": "stderr",
     "output_type": "stream",
     "text": [
      "ERROR: pip's dependency resolver does not currently take into account all the packages that are installed. This behaviour is the source of the following dependency conflicts.\n",
      "anaconda-project 0.11.1 requires ruamel-yaml, which is not installed.\n",
      "conda-repo-cli 1.0.20 requires clyent==1.2.1, but you have clyent 1.2.2 which is incompatible.\n",
      "conda-repo-cli 1.0.20 requires nbformat==5.4.0, but you have nbformat 5.5.0 which is incompatible.\n",
      "conda-repo-cli 1.0.20 requires requests==2.28.1, but you have requests 2.32.3 which is incompatible.\n"
     ]
    }
   ],
   "source": [
    "!pip install yfinance"
   ]
  },
  {
   "cell_type": "code",
   "execution_count": 2,
   "id": "246a07e1",
   "metadata": {},
   "outputs": [],
   "source": [
    "import pandas as pd\n",
    "import numpy as np\n",
    "import math \n",
    "import seaborn as sns \n",
    "import matplotlib.pyplot as plt\n",
    "from sklearn import metrics\n",
    "from sklearn.model_selection import train_test_split\n",
    "import yfinance as yf  # We will use this library to upload latest data from Yahoo API\n",
    "%matplotlib inline\n",
    "plt.style.use('fivethirtyeight')"
   ]
  },
  {
   "cell_type": "code",
   "execution_count": 3,
   "id": "b0c1ed55",
   "metadata": {},
   "outputs": [
    {
     "data": {
      "text/plain": [
       "{'address1': 'Building 20',\n",
       " 'address2': 'No. 56 AnTuo Road Anting Town Jiading District',\n",
       " 'city': 'Shanghai',\n",
       " 'zip': '201804',\n",
       " 'country': 'China',\n",
       " 'website': 'https://www.nio.com',\n",
       " 'industry': 'Auto Manufacturers',\n",
       " 'industryKey': 'auto-manufacturers',\n",
       " 'industryDisp': 'Auto Manufacturers',\n",
       " 'sector': 'Consumer Cyclical',\n",
       " 'sectorKey': 'consumer-cyclical',\n",
       " 'sectorDisp': 'Consumer Cyclical',\n",
       " 'longBusinessSummary': 'NIO Inc. designs, develops, manufactures, and sells smart electric vehicles in China. It offers five and six-seater electric SUVs, as well as smart electric sedans. The company also offers power solutions, including Power Home, a home charging solution; Power Swap, a battery swapping service; Power Charger and Destination Charger; Power Mobile, a mobile charging service through charging vans; Power Map, an application that provides access to a network of public chargers and their real-time information; and One Click for Power valet service. In addition, it provides repair, maintenance, and bodywork services through its NIO service centers and authorized third-party service centers; statutory and third-party liability insurance, and vehicle damage insurance through third-party insurers; repair and routine maintenance; roadside assistance; courtesy vehicle services; data packages; and auto financing and financial leasing services. Further, the company involved in the provision of energy and service packages to its users; design and technology development activities; manufacture of e-powertrains, battery packs, and components; and sales and after sales management activities. Additionally, it offers NIO Certified, a used vehicle inspection, evaluation, acquisition, and sales service. The company was formerly known as NextEV Inc. and changed its name to NIO Inc. in July 2017. NIO Inc. was incorporated in 2014 and is headquartered in Shanghai, China.',\n",
       " 'fullTimeEmployees': 32820,\n",
       " 'companyOfficers': [{'maxAge': 1,\n",
       "   'name': 'Mr. William  Li',\n",
       "   'age': 49,\n",
       "   'title': 'Co-Founder, Chairman & CEO',\n",
       "   'yearBorn': 1974,\n",
       "   'exercisedValue': 0,\n",
       "   'unexercisedValue': 0},\n",
       "  {'maxAge': 1,\n",
       "   'name': 'Mr. Lihong  Qin',\n",
       "   'age': 50,\n",
       "   'title': 'Co-Founder, President & Director',\n",
       "   'yearBorn': 1973,\n",
       "   'exercisedValue': 0,\n",
       "   'unexercisedValue': 0},\n",
       "  {'maxAge': 1,\n",
       "   'name': 'Mr. Wei  Feng',\n",
       "   'age': 42,\n",
       "   'title': 'Chief Financial Officer',\n",
       "   'yearBorn': 1981,\n",
       "   'exercisedValue': 0,\n",
       "   'unexercisedValue': 0},\n",
       "  {'maxAge': 1,\n",
       "   'name': 'Jade  Wei',\n",
       "   'title': 'Senior Director of Investor Relations',\n",
       "   'exercisedValue': 0,\n",
       "   'unexercisedValue': 0},\n",
       "  {'maxAge': 1,\n",
       "   'name': 'Liu  Fang',\n",
       "   'title': 'General Counsel',\n",
       "   'exercisedValue': 0,\n",
       "   'unexercisedValue': 0},\n",
       "  {'maxAge': 1,\n",
       "   'name': 'Mr. Feng  Shen',\n",
       "   'age': 58,\n",
       "   'title': 'Executive Vice President',\n",
       "   'yearBorn': 1965,\n",
       "   'exercisedValue': 0,\n",
       "   'unexercisedValue': 0},\n",
       "  {'maxAge': 1,\n",
       "   'name': 'Mr. Xin  Zhou',\n",
       "   'age': 52,\n",
       "   'title': 'Executive Vice President',\n",
       "   'yearBorn': 1971,\n",
       "   'exercisedValue': 0,\n",
       "   'unexercisedValue': 0},\n",
       "  {'maxAge': 1,\n",
       "   'name': 'Mr. Ganesh V. Iyer',\n",
       "   'age': 55,\n",
       "   'title': 'Chief Executive Officer of NIO U.S.',\n",
       "   'yearBorn': 1968,\n",
       "   'exercisedValue': 0,\n",
       "   'unexercisedValue': 0},\n",
       "  {'maxAge': 1,\n",
       "   'name': 'Mr. Stanley  Qu',\n",
       "   'title': 'VP of Finance',\n",
       "   'exercisedValue': 0,\n",
       "   'unexercisedValue': 0}],\n",
       " 'maxAge': 86400,\n",
       " 'priceHint': 4,\n",
       " 'previousClose': 4.33,\n",
       " 'open': 4.31,\n",
       " 'dayLow': 4.2402,\n",
       " 'dayHigh': 4.3498,\n",
       " 'regularMarketPreviousClose': 4.33,\n",
       " 'regularMarketOpen': 4.31,\n",
       " 'regularMarketDayLow': 4.2402,\n",
       " 'regularMarketDayHigh': 4.3498,\n",
       " 'beta': 1.792,\n",
       " 'forwardPE': -4.6236563,\n",
       " 'volume': 21527796,\n",
       " 'regularMarketVolume': 21527796,\n",
       " 'averageVolume': 53505503,\n",
       " 'averageVolume10days': 36344740,\n",
       " 'averageDailyVolume10Day': 36344740,\n",
       " 'bid': 4.29,\n",
       " 'ask': 4.3,\n",
       " 'bidSize': 41800,\n",
       " 'askSize': 41800,\n",
       " 'marketCap': 8998352896,\n",
       " 'fiftyTwoWeekLow': 3.61,\n",
       " 'fiftyTwoWeekHigh': 16.18,\n",
       " 'priceToSalesTrailing12Months': 0.16405354,\n",
       " 'fiftyDayAverage': 4.7956,\n",
       " 'twoHundredDayAverage': 6.5711,\n",
       " 'currency': 'USD',\n",
       " 'enterpriseValue': 7230715392,\n",
       " 'profitMargins': -0.39382,\n",
       " 'floatShares': 1286568491,\n",
       " 'sharesOutstanding': 2087170048,\n",
       " 'sharesShort': 167136577,\n",
       " 'sharesShortPriorMonth': 186140123,\n",
       " 'sharesShortPreviousMonthDate': 1713139200,\n",
       " 'dateShortInterest': 1715731200,\n",
       " 'sharesPercentSharesOut': 0.0801,\n",
       " 'heldPercentInsiders': 0.02506,\n",
       " 'heldPercentInstitutions': 0.18010001,\n",
       " 'shortRatio': 2.77,\n",
       " 'impliedSharesOutstanding': 2092640000,\n",
       " 'bookValue': 10.073,\n",
       " 'priceToBook': 0.42688376,\n",
       " 'lastFiscalYearEnd': 1703980800,\n",
       " 'nextFiscalYearEnd': 1735603200,\n",
       " 'mostRecentQuarter': 1711843200,\n",
       " 'netIncomeToCommon': -21601255424,\n",
       " 'trailingEps': -1.67,\n",
       " 'forwardEps': -0.93,\n",
       " 'enterpriseToRevenue': 0.132,\n",
       " 'enterpriseToEbitda': -0.372,\n",
       " '52WeekChange': -0.48809522,\n",
       " 'SandP52WeekChange': 0.26238096,\n",
       " 'exchange': 'NYQ',\n",
       " 'quoteType': 'EQUITY',\n",
       " 'symbol': 'NIO',\n",
       " 'underlyingSymbol': 'NIO',\n",
       " 'shortName': 'NIO Inc.',\n",
       " 'longName': 'NIO Inc.',\n",
       " 'firstTradeDateEpochUtc': 1536759000,\n",
       " 'timeZoneFullName': 'America/New_York',\n",
       " 'timeZoneShortName': 'EDT',\n",
       " 'uuid': 'b6d9dfc0-fb54-3773-a1ce-bc0fff55df2f',\n",
       " 'messageBoardId': 'finmb_311626862',\n",
       " 'gmtOffSetMilliseconds': -14400000,\n",
       " 'currentPrice': 4.3,\n",
       " 'recommendationKey': 'none',\n",
       " 'totalCash': 38425939968,\n",
       " 'totalCashPerShare': 18.798,\n",
       " 'ebitda': -19428016128,\n",
       " 'totalDebt': 32743682048,\n",
       " 'quickRatio': 0.855,\n",
       " 'currentRatio': 1.155,\n",
       " 'totalRevenue': 54850097152,\n",
       " 'debtToEquity': 132.489,\n",
       " 'revenuePerShare': 30.491,\n",
       " 'returnOnAssets': -0.14816,\n",
       " 'returnOnEquity': -0.89152,\n",
       " 'revenueGrowth': -0.072,\n",
       " 'grossMargins': 0.06157,\n",
       " 'ebitdaMargins': -0.35419998,\n",
       " 'operatingMargins': -0.54438,\n",
       " 'financialCurrency': 'CNY',\n",
       " 'trailingPegRatio': None}"
      ]
     },
     "execution_count": 3,
     "metadata": {},
     "output_type": "execute_result"
    }
   ],
   "source": [
    "# define the ticker you will use\n",
    "nio = yf.Ticker('NIO')\n",
    "#Display stock information, it will give you a summary description of the ticker\n",
    "nio.info"
   ]
  },
  {
   "cell_type": "code",
   "execution_count": 4,
   "id": "7b0bf88a",
   "metadata": {},
   "outputs": [
    {
     "data": {
      "text/html": [
       "<div>\n",
       "<style scoped>\n",
       "    .dataframe tbody tr th:only-of-type {\n",
       "        vertical-align: middle;\n",
       "    }\n",
       "\n",
       "    .dataframe tbody tr th {\n",
       "        vertical-align: top;\n",
       "    }\n",
       "\n",
       "    .dataframe thead th {\n",
       "        text-align: right;\n",
       "    }\n",
       "</style>\n",
       "<table border=\"1\" class=\"dataframe\">\n",
       "  <thead>\n",
       "    <tr style=\"text-align: right;\">\n",
       "      <th></th>\n",
       "      <th>Open</th>\n",
       "      <th>High</th>\n",
       "      <th>Low</th>\n",
       "      <th>Close</th>\n",
       "      <th>Volume</th>\n",
       "      <th>Dividends</th>\n",
       "      <th>Stock Splits</th>\n",
       "    </tr>\n",
       "    <tr>\n",
       "      <th>Date</th>\n",
       "      <th></th>\n",
       "      <th></th>\n",
       "      <th></th>\n",
       "      <th></th>\n",
       "      <th></th>\n",
       "      <th></th>\n",
       "      <th></th>\n",
       "    </tr>\n",
       "  </thead>\n",
       "  <tbody>\n",
       "    <tr>\n",
       "      <th>2018-09-12 00:00:00-04:00</th>\n",
       "      <td>6.00</td>\n",
       "      <td>6.93</td>\n",
       "      <td>5.35</td>\n",
       "      <td>6.60</td>\n",
       "      <td>66849000</td>\n",
       "      <td>0.0</td>\n",
       "      <td>0.0</td>\n",
       "    </tr>\n",
       "    <tr>\n",
       "      <th>2018-09-13 00:00:00-04:00</th>\n",
       "      <td>6.62</td>\n",
       "      <td>12.69</td>\n",
       "      <td>6.52</td>\n",
       "      <td>11.60</td>\n",
       "      <td>158346500</td>\n",
       "      <td>0.0</td>\n",
       "      <td>0.0</td>\n",
       "    </tr>\n",
       "    <tr>\n",
       "      <th>2018-09-14 00:00:00-04:00</th>\n",
       "      <td>12.66</td>\n",
       "      <td>13.80</td>\n",
       "      <td>9.22</td>\n",
       "      <td>9.90</td>\n",
       "      <td>172473600</td>\n",
       "      <td>0.0</td>\n",
       "      <td>0.0</td>\n",
       "    </tr>\n",
       "    <tr>\n",
       "      <th>2018-09-17 00:00:00-04:00</th>\n",
       "      <td>9.61</td>\n",
       "      <td>9.75</td>\n",
       "      <td>8.50</td>\n",
       "      <td>8.50</td>\n",
       "      <td>56323900</td>\n",
       "      <td>0.0</td>\n",
       "      <td>0.0</td>\n",
       "    </tr>\n",
       "    <tr>\n",
       "      <th>2018-09-18 00:00:00-04:00</th>\n",
       "      <td>8.73</td>\n",
       "      <td>9.10</td>\n",
       "      <td>7.67</td>\n",
       "      <td>7.68</td>\n",
       "      <td>41827600</td>\n",
       "      <td>0.0</td>\n",
       "      <td>0.0</td>\n",
       "    </tr>\n",
       "    <tr>\n",
       "      <th>2018-09-19 00:00:00-04:00</th>\n",
       "      <td>7.88</td>\n",
       "      <td>9.15</td>\n",
       "      <td>7.54</td>\n",
       "      <td>8.50</td>\n",
       "      <td>48306500</td>\n",
       "      <td>0.0</td>\n",
       "      <td>0.0</td>\n",
       "    </tr>\n",
       "    <tr>\n",
       "      <th>2018-09-20 00:00:00-04:00</th>\n",
       "      <td>9.07</td>\n",
       "      <td>9.47</td>\n",
       "      <td>8.42</td>\n",
       "      <td>8.78</td>\n",
       "      <td>40275000</td>\n",
       "      <td>0.0</td>\n",
       "      <td>0.0</td>\n",
       "    </tr>\n",
       "    <tr>\n",
       "      <th>2018-09-21 00:00:00-04:00</th>\n",
       "      <td>9.05</td>\n",
       "      <td>9.07</td>\n",
       "      <td>8.50</td>\n",
       "      <td>8.59</td>\n",
       "      <td>15118500</td>\n",
       "      <td>0.0</td>\n",
       "      <td>0.0</td>\n",
       "    </tr>\n",
       "    <tr>\n",
       "      <th>2018-09-24 00:00:00-04:00</th>\n",
       "      <td>8.32</td>\n",
       "      <td>8.39</td>\n",
       "      <td>7.85</td>\n",
       "      <td>7.87</td>\n",
       "      <td>16297900</td>\n",
       "      <td>0.0</td>\n",
       "      <td>0.0</td>\n",
       "    </tr>\n",
       "    <tr>\n",
       "      <th>2018-09-25 00:00:00-04:00</th>\n",
       "      <td>8.06</td>\n",
       "      <td>8.19</td>\n",
       "      <td>7.50</td>\n",
       "      <td>7.58</td>\n",
       "      <td>18909300</td>\n",
       "      <td>0.0</td>\n",
       "      <td>0.0</td>\n",
       "    </tr>\n",
       "  </tbody>\n",
       "</table>\n",
       "</div>"
      ],
      "text/plain": [
       "                            Open   High   Low  Close     Volume  Dividends  \\\n",
       "Date                                                                         \n",
       "2018-09-12 00:00:00-04:00   6.00   6.93  5.35   6.60   66849000        0.0   \n",
       "2018-09-13 00:00:00-04:00   6.62  12.69  6.52  11.60  158346500        0.0   \n",
       "2018-09-14 00:00:00-04:00  12.66  13.80  9.22   9.90  172473600        0.0   \n",
       "2018-09-17 00:00:00-04:00   9.61   9.75  8.50   8.50   56323900        0.0   \n",
       "2018-09-18 00:00:00-04:00   8.73   9.10  7.67   7.68   41827600        0.0   \n",
       "2018-09-19 00:00:00-04:00   7.88   9.15  7.54   8.50   48306500        0.0   \n",
       "2018-09-20 00:00:00-04:00   9.07   9.47  8.42   8.78   40275000        0.0   \n",
       "2018-09-21 00:00:00-04:00   9.05   9.07  8.50   8.59   15118500        0.0   \n",
       "2018-09-24 00:00:00-04:00   8.32   8.39  7.85   7.87   16297900        0.0   \n",
       "2018-09-25 00:00:00-04:00   8.06   8.19  7.50   7.58   18909300        0.0   \n",
       "\n",
       "                           Stock Splits  \n",
       "Date                                     \n",
       "2018-09-12 00:00:00-04:00           0.0  \n",
       "2018-09-13 00:00:00-04:00           0.0  \n",
       "2018-09-14 00:00:00-04:00           0.0  \n",
       "2018-09-17 00:00:00-04:00           0.0  \n",
       "2018-09-18 00:00:00-04:00           0.0  \n",
       "2018-09-19 00:00:00-04:00           0.0  \n",
       "2018-09-20 00:00:00-04:00           0.0  \n",
       "2018-09-21 00:00:00-04:00           0.0  \n",
       "2018-09-24 00:00:00-04:00           0.0  \n",
       "2018-09-25 00:00:00-04:00           0.0  "
      ]
     },
     "execution_count": 4,
     "metadata": {},
     "output_type": "execute_result"
    }
   ],
   "source": [
    "history = nio.history(period=\"max\")\n",
    "df = pd.DataFrame(history)\n",
    "df.head(10)\n"
   ]
  },
  {
   "cell_type": "code",
   "execution_count": 5,
   "id": "40de3e53",
   "metadata": {},
   "outputs": [
    {
     "data": {
      "text/plain": [
       "Date\n",
       "2018-09-12 00:00:00-04:00     6.60\n",
       "2018-09-13 00:00:00-04:00    11.60\n",
       "2018-09-14 00:00:00-04:00     9.90\n",
       "2018-09-17 00:00:00-04:00     8.50\n",
       "2018-09-18 00:00:00-04:00     7.68\n",
       "                             ...  \n",
       "2024-06-14 00:00:00-04:00     4.33\n",
       "2024-06-17 00:00:00-04:00     4.43\n",
       "2024-06-18 00:00:00-04:00     4.43\n",
       "2024-06-20 00:00:00-04:00     4.33\n",
       "2024-06-21 00:00:00-04:00     4.30\n",
       "Name: Close, Length: 1453, dtype: float64"
      ]
     },
     "execution_count": 5,
     "metadata": {},
     "output_type": "execute_result"
    }
   ],
   "source": [
    "# defining x and y \n",
    "x = df.index\n",
    "y = df['Close']\n",
    "y"
   ]
  },
  {
   "cell_type": "code",
   "execution_count": 6,
   "id": "1b750b51",
   "metadata": {},
   "outputs": [],
   "source": [
    "# Data Exploration\n",
    "# i like to set up a plot function so i can reuse it at later stages of this analysis \n",
    "def df_plot(data, x, y, title=\"\", xlabel='Date', ylabel='Value', dpi=100):\n",
    "    plt.figure(figsize=(16,5), dpi=dpi)\n",
    "    plt.plot(x, y, color='tab:red')\n",
    "    plt.gca().set(title=title, xlabel=xlabel, ylabel=ylabel)\n",
    "    plt.show()"
   ]
  },
  {
   "cell_type": "code",
   "execution_count": 8,
   "id": "cec6398f",
   "metadata": {},
   "outputs": [
    {
     "data": {
      "image/png": "[encoded data removed]",
      "text/plain": [
       "<Figure size 1600x500 with 1 Axes>"
      ]
     },
     "metadata": {},
     "output_type": "display_data"
    }
   ],
   "source": [
    "stock_name= \"NIO\"\n",
    "title = (stock_name,\"History of stock market performance till date\")\n",
    "df_plot(df , x , y , title=title,xlabel='Date', ylabel='Value',dpi=100)"
   ]
  },
  {
   "cell_type": "code",
   "execution_count": 9,
   "id": "9331d326",
   "metadata": {},
   "outputs": [],
   "source": [
    "# Data Processing and scaling\n",
    "df.reset_index(inplace=True) # to reset index and convert it to column"
   ]
  },
  {
   "cell_type": "code",
   "execution_count": 10,
   "id": "29e82c76",
   "metadata": {},
   "outputs": [
    {
     "data": {
      "text/html": [
       "<div>\n",
       "<style scoped>\n",
       "    .dataframe tbody tr th:only-of-type {\n",
       "        vertical-align: middle;\n",
       "    }\n",
       "\n",
       "    .dataframe tbody tr th {\n",
       "        vertical-align: top;\n",
       "    }\n",
       "\n",
       "    .dataframe thead th {\n",
       "        text-align: right;\n",
       "    }\n",
       "</style>\n",
       "<table border=\"1\" class=\"dataframe\">\n",
       "  <thead>\n",
       "    <tr style=\"text-align: right;\">\n",
       "      <th></th>\n",
       "      <th>Date</th>\n",
       "      <th>Open</th>\n",
       "      <th>High</th>\n",
       "      <th>Low</th>\n",
       "      <th>Close</th>\n",
       "      <th>Volume</th>\n",
       "      <th>Dividends</th>\n",
       "      <th>Stock Splits</th>\n",
       "    </tr>\n",
       "  </thead>\n",
       "  <tbody>\n",
       "    <tr>\n",
       "      <th>0</th>\n",
       "      <td>2018-09-12 00:00:00-04:00</td>\n",
       "      <td>6.00</td>\n",
       "      <td>6.93</td>\n",
       "      <td>5.35</td>\n",
       "      <td>6.6</td>\n",
       "      <td>66849000</td>\n",
       "      <td>0.0</td>\n",
       "      <td>0.0</td>\n",
       "    </tr>\n",
       "    <tr>\n",
       "      <th>1</th>\n",
       "      <td>2018-09-13 00:00:00-04:00</td>\n",
       "      <td>6.62</td>\n",
       "      <td>12.69</td>\n",
       "      <td>6.52</td>\n",
       "      <td>11.6</td>\n",
       "      <td>158346500</td>\n",
       "      <td>0.0</td>\n",
       "      <td>0.0</td>\n",
       "    </tr>\n",
       "  </tbody>\n",
       "</table>\n",
       "</div>"
      ],
      "text/plain": [
       "                       Date  Open   High   Low  Close     Volume  Dividends  \\\n",
       "0 2018-09-12 00:00:00-04:00  6.00   6.93  5.35    6.6   66849000        0.0   \n",
       "1 2018-09-13 00:00:00-04:00  6.62  12.69  6.52   11.6  158346500        0.0   \n",
       "\n",
       "   Stock Splits  \n",
       "0           0.0  \n",
       "1           0.0  "
      ]
     },
     "execution_count": 10,
     "metadata": {},
     "output_type": "execute_result"
    }
   ],
   "source": [
    "df.head(2)\n"
   ]
  },
  {
   "cell_type": "code",
   "execution_count": 11,
   "id": "eb240bc2",
   "metadata": {},
   "outputs": [],
   "source": [
    "df.columns= ['date','open','high','low','close','vol','divs','split']"
   ]
  },
  {
   "cell_type": "code",
   "execution_count": 12,
   "id": "b14b84e2",
   "metadata": {},
   "outputs": [
    {
     "data": {
      "text/html": [
       "<div>\n",
       "<style scoped>\n",
       "    .dataframe tbody tr th:only-of-type {\n",
       "        vertical-align: middle;\n",
       "    }\n",
       "\n",
       "    .dataframe tbody tr th {\n",
       "        vertical-align: top;\n",
       "    }\n",
       "\n",
       "    .dataframe thead th {\n",
       "        text-align: right;\n",
       "    }\n",
       "</style>\n",
       "<table border=\"1\" class=\"dataframe\">\n",
       "  <thead>\n",
       "    <tr style=\"text-align: right;\">\n",
       "      <th></th>\n",
       "      <th>date</th>\n",
       "      <th>open</th>\n",
       "      <th>high</th>\n",
       "      <th>low</th>\n",
       "      <th>close</th>\n",
       "      <th>vol</th>\n",
       "    </tr>\n",
       "  </thead>\n",
       "  <tbody>\n",
       "    <tr>\n",
       "      <th>0</th>\n",
       "      <td>2018-09-12 00:00:00-04:00</td>\n",
       "      <td>6.00</td>\n",
       "      <td>6.93</td>\n",
       "      <td>5.35</td>\n",
       "      <td>6.6</td>\n",
       "      <td>66849000</td>\n",
       "    </tr>\n",
       "    <tr>\n",
       "      <th>1</th>\n",
       "      <td>2018-09-13 00:00:00-04:00</td>\n",
       "      <td>6.62</td>\n",
       "      <td>12.69</td>\n",
       "      <td>6.52</td>\n",
       "      <td>11.6</td>\n",
       "      <td>158346500</td>\n",
       "    </tr>\n",
       "  </tbody>\n",
       "</table>\n",
       "</div>"
      ],
      "text/plain": [
       "                       date  open   high   low  close        vol\n",
       "0 2018-09-12 00:00:00-04:00  6.00   6.93  5.35    6.6   66849000\n",
       "1 2018-09-13 00:00:00-04:00  6.62  12.69  6.52   11.6  158346500"
      ]
     },
     "execution_count": 12,
     "metadata": {},
     "output_type": "execute_result"
    }
   ],
   "source": [
    "df.drop(columns=['divs','split']).head(2) # We are dropping un necessary columns from the set"
   ]
  },
  {
   "cell_type": "code",
   "execution_count": 13,
   "id": "dafc0909",
   "metadata": {},
   "outputs": [],
   "source": [
    "df['date'] = pd.to_datetime(df.date)"
   ]
  },
  {
   "cell_type": "code",
   "execution_count": 14,
   "id": "bc982f8f",
   "metadata": {},
   "outputs": [
    {
     "data": {
      "text/html": [
       "<div>\n",
       "<style scoped>\n",
       "    .dataframe tbody tr th:only-of-type {\n",
       "        vertical-align: middle;\n",
       "    }\n",
       "\n",
       "    .dataframe tbody tr th {\n",
       "        vertical-align: top;\n",
       "    }\n",
       "\n",
       "    .dataframe thead th {\n",
       "        text-align: right;\n",
       "    }\n",
       "</style>\n",
       "<table border=\"1\" class=\"dataframe\">\n",
       "  <thead>\n",
       "    <tr style=\"text-align: right;\">\n",
       "      <th></th>\n",
       "      <th>open</th>\n",
       "      <th>high</th>\n",
       "      <th>low</th>\n",
       "      <th>close</th>\n",
       "      <th>vol</th>\n",
       "      <th>divs</th>\n",
       "      <th>split</th>\n",
       "    </tr>\n",
       "  </thead>\n",
       "  <tbody>\n",
       "    <tr>\n",
       "      <th>count</th>\n",
       "      <td>1453.000000</td>\n",
       "      <td>1453.000000</td>\n",
       "      <td>1453.000000</td>\n",
       "      <td>1453.000000</td>\n",
       "      <td>1.453000e+03</td>\n",
       "      <td>1453.0</td>\n",
       "      <td>1453.0</td>\n",
       "    </tr>\n",
       "    <tr>\n",
       "      <th>mean</th>\n",
       "      <td>16.351356</td>\n",
       "      <td>16.859560</td>\n",
       "      <td>15.792168</td>\n",
       "      <td>16.332863</td>\n",
       "      <td>6.178436e+07</td>\n",
       "      <td>0.0</td>\n",
       "      <td>0.0</td>\n",
       "    </tr>\n",
       "    <tr>\n",
       "      <th>std</th>\n",
       "      <td>14.913074</td>\n",
       "      <td>15.338061</td>\n",
       "      <td>14.404421</td>\n",
       "      <td>14.887778</td>\n",
       "      <td>5.454758e+07</td>\n",
       "      <td>0.0</td>\n",
       "      <td>0.0</td>\n",
       "    </tr>\n",
       "    <tr>\n",
       "      <th>min</th>\n",
       "      <td>1.190000</td>\n",
       "      <td>1.450000</td>\n",
       "      <td>1.190000</td>\n",
       "      <td>1.320000</td>\n",
       "      <td>5.111000e+06</td>\n",
       "      <td>0.0</td>\n",
       "      <td>0.0</td>\n",
       "    </tr>\n",
       "    <tr>\n",
       "      <th>25%</th>\n",
       "      <td>5.530000</td>\n",
       "      <td>5.630000</td>\n",
       "      <td>5.270000</td>\n",
       "      <td>5.400000</td>\n",
       "      <td>3.285410e+07</td>\n",
       "      <td>0.0</td>\n",
       "      <td>0.0</td>\n",
       "    </tr>\n",
       "    <tr>\n",
       "      <th>50%</th>\n",
       "      <td>9.630000</td>\n",
       "      <td>10.050000</td>\n",
       "      <td>9.300000</td>\n",
       "      <td>9.690000</td>\n",
       "      <td>4.889430e+07</td>\n",
       "      <td>0.0</td>\n",
       "      <td>0.0</td>\n",
       "    </tr>\n",
       "    <tr>\n",
       "      <th>75%</th>\n",
       "      <td>21.730000</td>\n",
       "      <td>22.280001</td>\n",
       "      <td>20.940001</td>\n",
       "      <td>21.770000</td>\n",
       "      <td>7.307830e+07</td>\n",
       "      <td>0.0</td>\n",
       "      <td>0.0</td>\n",
       "    </tr>\n",
       "    <tr>\n",
       "      <th>max</th>\n",
       "      <td>64.949997</td>\n",
       "      <td>66.989998</td>\n",
       "      <td>62.189999</td>\n",
       "      <td>62.840000</td>\n",
       "      <td>5.771851e+08</td>\n",
       "      <td>0.0</td>\n",
       "      <td>0.0</td>\n",
       "    </tr>\n",
       "  </tbody>\n",
       "</table>\n",
       "</div>"
      ],
      "text/plain": [
       "              open         high          low        close           vol  \\\n",
       "count  1453.000000  1453.000000  1453.000000  1453.000000  1.453000e+03   \n",
       "mean     16.351356    16.859560    15.792168    16.332863  6.178436e+07   \n",
       "std      14.913074    15.338061    14.404421    14.887778  5.454758e+07   \n",
       "min       1.190000     1.450000     1.190000     1.320000  5.111000e+06   \n",
       "25%       5.530000     5.630000     5.270000     5.400000  3.285410e+07   \n",
       "50%       9.630000    10.050000     9.300000     9.690000  4.889430e+07   \n",
       "75%      21.730000    22.280001    20.940001    21.770000  7.307830e+07   \n",
       "max      64.949997    66.989998    62.189999    62.840000  5.771851e+08   \n",
       "\n",
       "         divs   split  \n",
       "count  1453.0  1453.0  \n",
       "mean      0.0     0.0  \n",
       "std       0.0     0.0  \n",
       "min       0.0     0.0  \n",
       "25%       0.0     0.0  \n",
       "50%       0.0     0.0  \n",
       "75%       0.0     0.0  \n",
       "max       0.0     0.0  "
      ]
     },
     "execution_count": 14,
     "metadata": {},
     "output_type": "execute_result"
    }
   ],
   "source": [
    "df.describe()"
   ]
  },
  {
   "cell_type": "code",
   "execution_count": 15,
   "id": "03a0d8e1",
   "metadata": {},
   "outputs": [
    {
     "name": "stdout",
     "output_type": "stream",
     "text": [
      "1453\n"
     ]
    }
   ],
   "source": [
    "print(len(df))"
   ]
  },
  {
   "cell_type": "code",
   "execution_count": 16,
   "id": "7e1efc19",
   "metadata": {},
   "outputs": [],
   "source": [
    "x = df[['open', 'high','low', 'vol']]\n",
    "y = df['close']"
   ]
  },
  {
   "cell_type": "code",
   "execution_count": 17,
   "id": "59c26816",
   "metadata": {},
   "outputs": [],
   "source": [
    "# Linear regression Model for stock prediction \n",
    "train_x, test_x, train_y, test_y = train_test_split(x, y, test_size=0.15 , shuffle=False,random_state = 0)"
   ]
  },
  {
   "cell_type": "code",
   "execution_count": 18,
   "id": "d37c6d14",
   "metadata": {},
   "outputs": [
    {
     "name": "stdout",
     "output_type": "stream",
     "text": [
      "(1235, 4)\n",
      "(218, 4)\n",
      "(1235,)\n",
      "(218,)\n"
     ]
    }
   ],
   "source": [
    "# let's check if total observation makes sense\n",
    "print(train_x.shape )\n",
    "print(test_x.shape)\n",
    "print(train_y.shape)\n",
    "print(test_y.shape)"
   ]
  },
  {
   "cell_type": "code",
   "execution_count": 19,
   "id": "0a9c8687",
   "metadata": {},
   "outputs": [
    {
     "name": "stdout",
     "output_type": "stream",
     "text": [
      "regression coefficient [-6.56285204e-01  9.43009048e-01  7.08560674e-01 -1.39139145e-10]\n",
      "regression intercept -0.016343182322152927\n"
     ]
    }
   ],
   "source": [
    "from sklearn.linear_model import LinearRegression\n",
    "from sklearn.metrics import confusion_matrix, accuracy_score\n",
    "regression = LinearRegression()\n",
    "regression.fit(train_x, train_y)\n",
    "print(\"regression coefficient\",regression.coef_)\n",
    "print(\"regression intercept\",regression.intercept_)\n"
   ]
  },
  {
   "cell_type": "code",
   "execution_count": 20,
   "id": "a8b63ffe",
   "metadata": {},
   "outputs": [
    {
     "name": "stdout",
     "output_type": "stream",
     "text": [
      "linear regression confidence:  0.9965408646632864\n"
     ]
    }
   ],
   "source": [
    "# the coefficient of determination R² \n",
    "regression_confidence = regression.score(test_x, test_y)\n",
    "print(\"linear regression confidence: \", regression_confidence)"
   ]
  },
  {
   "cell_type": "code",
   "execution_count": 21,
   "id": "3fe3eee6",
   "metadata": {},
   "outputs": [
    {
     "name": "stdout",
     "output_type": "stream",
     "text": [
      "       open   high    low       vol\n",
      "1235  13.61  13.97  13.19  55643000\n",
      "1236  12.77  13.01  12.55  54605400\n",
      "1237  12.40  12.56  11.94  67398200\n",
      "1238  12.26  12.34  11.55  71428600\n",
      "1239  11.18  11.76  11.15  59478400\n"
     ]
    }
   ],
   "source": [
    "predicted=regression.predict(test_x)\n",
    "print(test_x.head())"
   ]
  },
  {
   "cell_type": "code",
   "execution_count": 22,
   "id": "fd7ff401",
   "metadata": {},
   "outputs": [
    {
     "data": {
      "text/plain": [
       "(218,)"
      ]
     },
     "execution_count": 22,
     "metadata": {},
     "output_type": "execute_result"
    }
   ],
   "source": [
    "predicted.shape"
   ]
  },
  {
   "cell_type": "code",
   "execution_count": 23,
   "id": "3fd0f9f2",
   "metadata": {},
   "outputs": [
    {
     "data": {
      "text/html": [
       "<div>\n",
       "<style scoped>\n",
       "    .dataframe tbody tr th:only-of-type {\n",
       "        vertical-align: middle;\n",
       "    }\n",
       "\n",
       "    .dataframe tbody tr th {\n",
       "        vertical-align: top;\n",
       "    }\n",
       "\n",
       "    .dataframe thead th {\n",
       "        text-align: right;\n",
       "    }\n",
       "</style>\n",
       "<table border=\"1\" class=\"dataframe\">\n",
       "  <thead>\n",
       "    <tr style=\"text-align: right;\">\n",
       "      <th></th>\n",
       "      <th>Actual_Price</th>\n",
       "      <th>Predicted_Price</th>\n",
       "    </tr>\n",
       "  </thead>\n",
       "  <tbody>\n",
       "    <tr>\n",
       "      <th>1235</th>\n",
       "      <td>13.25</td>\n",
       "      <td>13.563625</td>\n",
       "    </tr>\n",
       "    <tr>\n",
       "      <th>1236</th>\n",
       "      <td>12.90</td>\n",
       "      <td>12.756281</td>\n",
       "    </tr>\n",
       "    <tr>\n",
       "      <th>1237</th>\n",
       "      <td>12.52</td>\n",
       "      <td>12.140751</td>\n",
       "    </tr>\n",
       "    <tr>\n",
       "      <th>1238</th>\n",
       "      <td>11.83</td>\n",
       "      <td>11.748269</td>\n",
       "    </tr>\n",
       "    <tr>\n",
       "      <th>1239</th>\n",
       "      <td>11.40</td>\n",
       "      <td>11.628350</td>\n",
       "    </tr>\n",
       "    <tr>\n",
       "      <th>1240</th>\n",
       "      <td>11.50</td>\n",
       "      <td>11.987032</td>\n",
       "    </tr>\n",
       "    <tr>\n",
       "      <th>1241</th>\n",
       "      <td>10.67</td>\n",
       "      <td>10.827301</td>\n",
       "    </tr>\n",
       "    <tr>\n",
       "      <th>1242</th>\n",
       "      <td>10.95</td>\n",
       "      <td>10.935833</td>\n",
       "    </tr>\n",
       "    <tr>\n",
       "      <th>1243</th>\n",
       "      <td>10.79</td>\n",
       "      <td>10.713554</td>\n",
       "    </tr>\n",
       "    <tr>\n",
       "      <th>1244</th>\n",
       "      <td>10.84</td>\n",
       "      <td>10.862041</td>\n",
       "    </tr>\n",
       "  </tbody>\n",
       "</table>\n",
       "</div>"
      ],
      "text/plain": [
       "      Actual_Price  Predicted_Price\n",
       "1235         13.25        13.563625\n",
       "1236         12.90        12.756281\n",
       "1237         12.52        12.140751\n",
       "1238         11.83        11.748269\n",
       "1239         11.40        11.628350\n",
       "1240         11.50        11.987032\n",
       "1241         10.67        10.827301\n",
       "1242         10.95        10.935833\n",
       "1243         10.79        10.713554\n",
       "1244         10.84        10.862041"
      ]
     },
     "execution_count": 23,
     "metadata": {},
     "output_type": "execute_result"
    }
   ],
   "source": [
    "dfr=pd.DataFrame({'Actual_Price':test_y, 'Predicted_Price':predicted})\n",
    "dfr.head(10)"
   ]
  },
  {
   "cell_type": "code",
   "execution_count": 24,
   "id": "ef6a33c8",
   "metadata": {},
   "outputs": [
    {
     "data": {
      "text/html": [
       "<div>\n",
       "<style scoped>\n",
       "    .dataframe tbody tr th:only-of-type {\n",
       "        vertical-align: middle;\n",
       "    }\n",
       "\n",
       "    .dataframe tbody tr th {\n",
       "        vertical-align: top;\n",
       "    }\n",
       "\n",
       "    .dataframe thead th {\n",
       "        text-align: right;\n",
       "    }\n",
       "</style>\n",
       "<table border=\"1\" class=\"dataframe\">\n",
       "  <thead>\n",
       "    <tr style=\"text-align: right;\">\n",
       "      <th></th>\n",
       "      <th>Actual_Price</th>\n",
       "      <th>Predicted_Price</th>\n",
       "    </tr>\n",
       "  </thead>\n",
       "  <tbody>\n",
       "    <tr>\n",
       "      <th>count</th>\n",
       "      <td>218.000000</td>\n",
       "      <td>218.000000</td>\n",
       "    </tr>\n",
       "    <tr>\n",
       "      <th>mean</th>\n",
       "      <td>6.958716</td>\n",
       "      <td>6.955187</td>\n",
       "    </tr>\n",
       "    <tr>\n",
       "      <th>std</th>\n",
       "      <td>2.095864</td>\n",
       "      <td>2.104648</td>\n",
       "    </tr>\n",
       "    <tr>\n",
       "      <th>min</th>\n",
       "      <td>3.800000</td>\n",
       "      <td>3.820416</td>\n",
       "    </tr>\n",
       "    <tr>\n",
       "      <th>25%</th>\n",
       "      <td>5.292500</td>\n",
       "      <td>5.298903</td>\n",
       "    </tr>\n",
       "    <tr>\n",
       "      <th>50%</th>\n",
       "      <td>6.425000</td>\n",
       "      <td>6.595793</td>\n",
       "    </tr>\n",
       "    <tr>\n",
       "      <th>75%</th>\n",
       "      <td>8.350000</td>\n",
       "      <td>8.330909</td>\n",
       "    </tr>\n",
       "    <tr>\n",
       "      <th>max</th>\n",
       "      <td>13.250000</td>\n",
       "      <td>13.563625</td>\n",
       "    </tr>\n",
       "  </tbody>\n",
       "</table>\n",
       "</div>"
      ],
      "text/plain": [
       "       Actual_Price  Predicted_Price\n",
       "count    218.000000       218.000000\n",
       "mean       6.958716         6.955187\n",
       "std        2.095864         2.104648\n",
       "min        3.800000         3.820416\n",
       "25%        5.292500         5.298903\n",
       "50%        6.425000         6.595793\n",
       "75%        8.350000         8.330909\n",
       "max       13.250000        13.563625"
      ]
     },
     "execution_count": 24,
     "metadata": {},
     "output_type": "execute_result"
    }
   ],
   "source": [
    "dfr.describe()"
   ]
  },
  {
   "cell_type": "code",
   "execution_count": 25,
   "id": "8a5618ef",
   "metadata": {},
   "outputs": [
    {
     "data": {
      "image/png": "[encoded data removed]",
      "text/plain": [
       "<Figure size 640x480 with 1 Axes>"
      ]
     },
     "metadata": {},
     "output_type": "display_data"
    }
   ],
   "source": [
    "plt.scatter(dfr.Actual_Price, dfr.Predicted_Price,  color='Darkblue')\n",
    "plt.title(\"Linear Regression\")\n",
    "plt.xlabel(\"Actual Price\")\n",
    "plt.ylabel(\"Predicted Price\")\n",
    "plt.show()"
   ]
  },
  {
   "cell_type": "code",
   "execution_count": 26,
   "id": "646443d9",
   "metadata": {},
   "outputs": [
    {
     "name": "stdout",
     "output_type": "stream",
     "text": [
      "Polynomial regression coefficients: [ 0.00000000e+00  3.37363316e-01  3.31335303e-01  3.12204785e-01\n",
      "  1.41147905e-08 -7.28695271e-03 -3.54847579e-03 -1.47961110e-03\n",
      "  1.24032755e-09  4.17727839e-04  4.63351143e-03 -1.71459431e-09\n",
      "  7.92798066e-03  4.96412760e-10  1.11022302e-16]\n",
      "Polynomial regression intercept: -1.3182301215451417\n"
     ]
    }
   ],
   "source": [
    "from sklearn.preprocessing import PolynomialFeatures\n",
    "from sklearn.linear_model import LinearRegression\n",
    "\n",
    "# Assuming train_x and train_y are your training data features and target values\n",
    "# Specify the degree of the polynomial you want to fit\n",
    "degree = 2\n",
    "\n",
    "# Create polynomial features\n",
    "poly = PolynomialFeatures(degree=degree)\n",
    "train_x_poly = poly.fit_transform(train_x)\n",
    "\n",
    "# Initialize and fit the polynomial regression model\n",
    "poly_regression = LinearRegression()\n",
    "poly_regression.fit(train_x_poly, train_y)\n",
    "\n",
    "# Print the coefficients and intercept of the polynomial regression model\n",
    "print(\"Polynomial regression coefficients:\", poly_regression.coef_)\n",
    "print(\"Polynomial regression intercept:\", poly_regression.intercept_)\n",
    "\n",
    "\n"
   ]
  },
  {
   "cell_type": "code",
   "execution_count": 27,
   "id": "e3cd3a7c",
   "metadata": {},
   "outputs": [
    {
     "name": "stdout",
     "output_type": "stream",
     "text": [
      "Polynomial regression confidence (R^2): 0.8122005169971225\n"
     ]
    }
   ],
   "source": [
    "from sklearn.preprocessing import PolynomialFeatures\n",
    "from sklearn.linear_model import LinearRegression\n",
    "\n",
    "# Specify the degree of the polynomial you want to fit\n",
    "degree = 2\n",
    "\n",
    "# Create polynomial features for training data\n",
    "poly = PolynomialFeatures(degree=degree)\n",
    "train_x_poly = poly.fit_transform(train_x)\n",
    "\n",
    "# Fit the polynomial regression model\n",
    "poly_regression = LinearRegression()\n",
    "poly_regression.fit(train_x_poly, train_y)\n",
    "\n",
    "# Create polynomial features for test data\n",
    "test_x_poly = poly.transform(test_x)\n",
    "\n",
    "# Calculate and print the R^2 score for the polynomial regression model\n",
    "poly_regression_confidence = poly_regression.score(test_x_poly, test_y)\n",
    "print(\"Polynomial regression confidence (R^2):\", poly_regression_confidence)\n",
    "\n",
    "\n"
   ]
  },
  {
   "cell_type": "code",
   "execution_count": 28,
   "id": "5ad0e711",
   "metadata": {},
   "outputs": [
    {
     "name": "stdout",
     "output_type": "stream",
     "text": [
      "       open   high    low       vol\n",
      "1235  13.61  13.97  13.19  55643000\n",
      "1236  12.77  13.01  12.55  54605400\n",
      "1237  12.40  12.56  11.94  67398200\n",
      "1238  12.26  12.34  11.55  71428600\n",
      "1239  11.18  11.76  11.15  59478400\n",
      "    0      1      2      3           4           5           6           7   \\\n",
      "0  1.0  13.61  13.97  13.19  55643000.0  185.232091  190.131699  179.515890   \n",
      "1  1.0  12.77  13.01  12.55  54605400.0  163.072912  166.137709  160.263508   \n",
      "2  1.0  12.40  12.56  11.94  67398200.0  153.759991  155.744000  148.055990   \n",
      "3  1.0  12.26  12.34  11.55  71428600.0  150.307606  151.288405  141.603005   \n",
      "4  1.0  11.18  11.76  11.15  59478400.0  124.992407  131.476806  124.656999   \n",
      "\n",
      "             8           9           10            11          12  \\\n",
      "0  7.573012e+08  195.160907  184.264298  7.773327e+08  173.976089   \n",
      "1  6.973110e+08  169.260106  163.275505  7.104163e+08  157.502505   \n",
      "2  8.357377e+08  157.753611  149.966400  8.465214e+08  142.563590   \n",
      "3  8.757147e+08  152.275604  142.527004  8.814289e+08  133.402504   \n",
      "4  6.649685e+08  138.297605  131.123998  6.994660e+08  124.322491   \n",
      "\n",
      "             13            14  \n",
      "0  7.339311e+08  3.096143e+15  \n",
      "1  6.852978e+08  2.981750e+15  \n",
      "2  8.047345e+08  4.542517e+15  \n",
      "3  8.250003e+08  5.102045e+15  \n",
      "4  6.631841e+08  3.537680e+15  \n"
     ]
    }
   ],
   "source": [
    "from sklearn.preprocessing import PolynomialFeatures\n",
    "from sklearn.linear_model import LinearRegression\n",
    "import pandas as pd\n",
    "\n",
    "# Assuming train_x, train_y, test_x, and test_y are your training and test data features and target values\n",
    "\n",
    "# Polynomial Regression\n",
    "degree = 2  # Specify the degree of the polynomial\n",
    "poly = PolynomialFeatures(degree=degree)\n",
    "\n",
    "# Fit and transform the training data to polynomial features\n",
    "train_x_poly = poly.fit_transform(train_x)\n",
    "\n",
    "# Fit the polynomial regression model\n",
    "poly_regression = LinearRegression()\n",
    "poly_regression.fit(train_x_poly, train_y)\n",
    "\n",
    "# Transform the test data to polynomial features\n",
    "test_x_poly = poly.transform(test_x)\n",
    "\n",
    "# Polynomial regression prediction\n",
    "predicted_poly = poly_regression.predict(test_x_poly)\n",
    "\n",
    "# Print the first few rows of the test data\n",
    "print(pd.DataFrame(test_x).head())\n",
    "\n",
    "# Optionally, if you want to see the polynomial features of the test data\n",
    "print(pd.DataFrame(test_x_poly).head())\n"
   ]
  },
  {
   "cell_type": "code",
   "execution_count": 29,
   "id": "5e86b99c",
   "metadata": {},
   "outputs": [
    {
     "data": {
      "text/plain": [
       "(218,)"
      ]
     },
     "execution_count": 29,
     "metadata": {},
     "output_type": "execute_result"
    }
   ],
   "source": [
    "predicted.shape"
   ]
  },
  {
   "cell_type": "code",
   "execution_count": 30,
   "id": "84b230d2",
   "metadata": {},
   "outputs": [
    {
     "name": "stdout",
     "output_type": "stream",
     "text": [
      "      Actual_Price  Predicted_Price\n",
      "1235         13.25        13.144499\n",
      "1236         12.90        12.368488\n",
      "1237         12.52        12.193481\n",
      "1238         11.83        12.011526\n",
      "1239         11.40        11.107218\n",
      "1240         11.50        11.971346\n",
      "1241         10.67        10.864426\n",
      "1242         10.95        10.395075\n",
      "1243         10.79        10.279086\n",
      "1244         10.84         9.753159\n"
     ]
    }
   ],
   "source": [
    "predicted_poly = poly_regression.predict(test_x_poly)\n",
    "\n",
    "# Create DataFrame to compare actual and predicted prices\n",
    "dfr_poly = pd.DataFrame({'Actual_Price': test_y, 'Predicted_Price': predicted_poly})\n",
    "print(dfr_poly.head(10))"
   ]
  },
  {
   "cell_type": "code",
   "execution_count": 31,
   "id": "5d05f427",
   "metadata": {},
   "outputs": [
    {
     "data": {
      "image/png": "[encoded data removed]",
      "text/plain": [
       "<Figure size 640x480 with 1 Axes>"
      ]
     },
     "metadata": {},
     "output_type": "display_data"
    }
   ],
   "source": [
    "# Plotting the results\n",
    "plt.scatter(dfr_poly.Actual_Price, dfr_poly.Predicted_Price, color='Darkblue')\n",
    "plt.xlabel(\"Actual Price\")\n",
    "plt.ylabel(\"Predicted Price\")\n",
    "plt.title(\"Polynomial Regression: Actual vs Predicted Prices\")\n",
    "plt.show()"
   ]
  },
  {
   "cell_type": "code",
   "execution_count": 32,
   "id": "ca28dd00",
   "metadata": {},
   "outputs": [
    {
     "name": "stdout",
     "output_type": "stream",
     "text": [
      "Logistic Regression Accuracy: 0.5045871559633027\n"
     ]
    },
    {
     "data": {
      "image/png": "[encoded data removed]",
      "text/plain": [
       "<Figure size 640x480 with 1 Axes>"
      ]
     },
     "metadata": {},
     "output_type": "display_data"
    },
    {
     "name": "stdout",
     "output_type": "stream",
     "text": [
      "Confusion Matrix:\n",
      "[[110   0]\n",
      " [108   0]]\n"
     ]
    }
   ],
   "source": [
    "import pandas as pd\n",
    "from sklearn.model_selection import train_test_split\n",
    "from sklearn.linear_model import LogisticRegression\n",
    "from sklearn.metrics import confusion_matrix, accuracy_score\n",
    "\n",
    "# Example of binarizing a continuous target variable for binary classification\n",
    "# Assuming train_x, train_y, test_x, and test_y are your original data\n",
    "\n",
    "# Binarize the target variable\n",
    "train_y_binary = (train_y > train_y.mean()).astype(int)\n",
    "test_y_binary = (test_y > test_y.mean()).astype(int)\n",
    "\n",
    "# Initialize logistic regression model\n",
    "logreg = LogisticRegression()\n",
    "\n",
    "# Fit the model on the training data\n",
    "logreg.fit(train_x, train_y_binary)\n",
    "\n",
    "# Predict on the test data\n",
    "predicted_logreg = logreg.predict(test_x)\n",
    "\n",
    "# Calculate accuracy score\n",
    "accuracy = accuracy_score(test_y_binary, predicted_logreg)\n",
    "print(\"Logistic Regression Accuracy:\", accuracy)\n",
    "\n",
    "# Create DataFrame to compare actual and predicted values\n",
    "dfr_logreg = pd.DataFrame({'Actual': test_y_binary, 'Predicted': predicted_logreg})\n",
    "\n",
    "# Plotting the results\n",
    "plt.scatter(dfr_logreg.Actual, dfr_logreg.Predicted, color='Darkblue')\n",
    "plt.xlabel(\"Actual\")\n",
    "plt.ylabel(\"Predicted\")\n",
    "plt.title(\"Logistic Regression: Actual vs Predicted\")\n",
    "plt.show()\n",
    "\n",
    "# Print confusion matrix\n",
    "print(\"Confusion Matrix:\")\n",
    "print(confusion_matrix(test_y_binary, predicted_logreg))\n"
   ]
  },
  {
   "cell_type": "code",
   "execution_count": null,
   "id": "cfca0872",
   "metadata": {},
   "outputs": [],
   "source": []
  },
  {
   "cell_type": "code",
   "execution_count": null,
   "id": "ba154b87",
   "metadata": {},
   "outputs": [],
   "source": []
  }
 ],
 "metadata": {
  "kernelspec": {
   "display_name": "Python 3 (ipykernel)",
   "language": "python",
   "name": "python3"
  },
  "language_info": {
   "codemirror_mode": {
    "name": "ipython",
    "version": 3
   },
   "file_extension": ".py",
   "mimetype": "text/x-python",
   "name": "python",
   "nbconvert_exporter": "python",
   "pygments_lexer": "ipython3",
   "version": "3.9.13"
  }
 },
 "nbformat": 4,
 "nbformat_minor": 5
}
